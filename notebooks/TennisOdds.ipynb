{
 "cells": [
  {
   "cell_type": "markdown",
   "metadata": {},
   "source": [
    "Probability of winning a point: $p$\n",
    "\n",
    "Probability of winning a game:\n",
    "\n",
    "$P = \\binom 30 p^4 + \\binom 41 p^4(1-p) + \\binom 52 p^4(1-p)^2 + \\binom 63 \\frac{p^3(1-p)^3}{1-2p(1-p)}p^2$\n",
    "\n",
    "$=p^4+4p^4(1-p)+10p^4(1-p)^2 + 20 \\frac{p^5(1-p)^3}{1-2p+2p^2}$\n",
    "\n",
    "$=15p^4-24p^5+10p^6  + 20 \\frac{p^5-3p^6+3p^7-p^8}{1-2p+2p^2}$\n",
    "\n",
    "Probability of winning a Tie-break:\n",
    "\n",
    "$P_{tie-break} = p^7 + \\binom 71 p^7(1-p) + \\binom 82 p^7(1-p)^2 + \\binom 93 p^7(1-p)^3 + \\binom{10}{4} p^7(1-p)^4 + \\binom{11}{5} p^7(1-p)^5 + \\binom{12}{6}\\frac{p^6(1-p)^6}{1-2p(1-p)}p^2$\n",
    "\n",
    "$= 792p^7 - 3465 p^8 + 6160 p^9 - 5544 p^{10} + 2520 p^{11} - 462 p^{12} + 924 \\frac{p^8-6p^9+15p^{10}-20p^{11}+15p^{12}-6p^{13}+p^{14}}{1-2p+2p^2}$\n",
    "\n",
    "Probability of winning a set:\n",
    "\n",
    "6:0 $P^6$\n",
    "\n",
    "6:1 $\\binom 61 P^6(1-P) = 6P^6-6P^7$\n",
    "\n",
    "6:2 $\\binom 72 P^6(1-P)^2 = 21(P^6-2P^7+P^8)$\n",
    "\n",
    "6:3 $\\binom 83 P^6(1-P)^3 = 56(P^6-3P^7+3P^8-P^9)$\n",
    "\n",
    "6:4 $\\binom 94 P^6(1-P)^4 = 126(P^6-4P^7+6P^8-4P^9+P^10)$\n",
    "\n",
    "7:5 $\\binom{10}{5}P^7(1-P)^5 = 252(P^7-5P^8+10P^9-10P^{10}+5P^{11}-P^{12})$\n",
    "\n",
    "7:6 $2\\binom{10}{5}P^6(1-P)^6P_{tie-break}$\n",
    "\n",
    "Probability of winning a match:\n",
    "\n",
    "2:0 $P^2$\n",
    "\n",
    "2:1 $2P^2(1-P)$\n",
    "\n",
    "total: $P^2(2-P)$\n"
   ]
  },
  {
   "cell_type": "markdown",
   "metadata": {},
   "source": [
    "### Logistic function\n",
    "\n",
    "Supose that the probability of a player $i$ wins a point against a player $j$ is:\n",
    "$$p_{ij} = \\frac{1}{1+e^{a_i-a_j}}$$\n",
    "\n",
    "$$\\frac{\\partial p(\\alpha,\\beta)}{\\partial \\alpha} = p(1-p)$$\n",
    "\n",
    "$$p(\\alpha,\\beta) = 1-p(\\beta,\\alpha)$$\n",
    "\n",
    "Given a winning set result $S$, what is:\n",
    "$$\\frac{\\partial S_R \\left(\\alpha, \\beta \\right)}{\\partial \\alpha} = \\frac{\\partial S_R \\left( g\\left(\\alpha, \\beta \\right), tb\\left(\\alpha, \\beta \\right) \\right)}{\\partial \\alpha}$$"
   ]
  },
  {
   "cell_type": "code",
   "execution_count": 2,
   "metadata": {
    "collapsed": false
   },
   "outputs": [],
   "source": [
    "from sympy import symbols, expand\n",
    "p = symbols('p')\n",
    "g = 15*p**4-24*p**5+10*p**6  + 20*(p**5-3*p**6+3*p**7-p**8)/(1-2*p+2*p**2)\n",
    "t = 792*p**7 - 3465*p**8 + 6160*p**9 - 5544*p**10 + 2520*p**11 - 462*p**12 + 924*(p**8-6*p**9+15*p**10-20*p**11+15*p**12-6*p**13+p**14)/(1-2*p+2*p**2)\n",
    "s60 = g**6\n",
    "s61 = 6*(g**6)*(1-g)\n",
    "s62 = 21*(g**6)*((1-g)**2)\n",
    "s63 = 56*(g**6)*((1-g)**3)\n",
    "s64 = 126*(g**6)*((1-g)**4)\n",
    "s75 = 252*(g**7)*((1-g)**5)\n",
    "s76 = 504*(g**6)*((1-g)**6)*t\n"
   ]
  },
  {
   "cell_type": "code",
   "execution_count": 1,
   "metadata": {
    "collapsed": false
   },
   "outputs": [],
   "source": [
    "game = lambda p : 15*p**4-24*p**5+10*p**6  + 20*(p**5-3*p**6+3*p**7-p**8)/(1-2*p+2*p**2)\n",
    "tiebreak = lambda p : 792*p**7 - 3465*p**8 + 6160*p**9 - 5544*p**10 + 2520*p**11 - 462*p**12 + 924*(p**8-6*p**9+15*p**10-20*p**11+15*p**12-6*p**13+p**14)/(1-2*p+2*p**2)\n",
    "set60 = lambda p: (lambda g: g**6)(game(p))\n",
    "set61 = lambda p: (lambda g: 6*(g**6)*(1-g))(game(p))\n",
    "set62 = lambda p: (lambda g: 21*(g**6)*((1-g)**2))(game(p))\n",
    "set63 = lambda p: (lambda g: 56*(g**6)*((1-g)**3))(game(p))\n",
    "set64 = lambda p: (lambda g: 126*(g**6)*((1-g)**4))(game(p))\n",
    "set75 = lambda p: (lambda g: 252*(g**7)*((1-g)**5))(game(p))\n",
    "set76 = lambda p: (lambda g, tb: 504*(g**6)*((1-g)**6)*tb)(game(p), tiebreak(p))\n",
    "w = lambda p: set60(p) + set61(p) + set62(p) + set63(p) + set64(p) + set75(p) + set76(p)"
   ]
  },
  {
   "cell_type": "code",
   "execution_count": 4,
   "metadata": {
    "collapsed": false
   },
   "outputs": [],
   "source": [
    "import numpy as np\n",
    "x = np.arange(0,1,.001)"
   ]
  },
  {
   "cell_type": "code",
   "execution_count": 5,
   "metadata": {
    "collapsed": false
   },
   "outputs": [
    {
     "data": {
      "text/plain": [
       "[<matplotlib.lines.Line2D at 0xb756898>]"
      ]
     },
     "execution_count": 5,
     "metadata": {},
     "output_type": "execute_result"
    },
    {
     "data": {
      "image/png": "[encoded data removed]",
      "text/plain": [
       "<matplotlib.figure.Figure at 0xb2f9eb8>"
      ]
     },
     "metadata": {},
     "output_type": "display_data"
    }
   ],
   "source": [
    "from matplotlib import pyplot\n",
    "%matplotlib inline\n",
    "#pyplot.plot(x,game(x))\n",
    "#pyplot.plot(x,tiebreak(x))\n",
    "pyplot.plot(x,set60(x))\n",
    "pyplot.plot(x,set61(x))\n",
    "pyplot.plot(x,set62(x))\n",
    "pyplot.plot(x,set63(x))\n",
    "pyplot.plot(x,set64(x))\n",
    "pyplot.plot(x,set75(x))\n",
    "pyplot.plot(x,set76(x))\n",
    "pyplot.plot(x,set60(1-x))\n",
    "pyplot.plot(x,set61(1-x))\n",
    "pyplot.plot(x,set62(1-x))\n",
    "pyplot.plot(x,set63(1-x))\n",
    "pyplot.plot(x,set64(1-x))\n",
    "pyplot.plot(x,set75(1-x))\n",
    "pyplot.plot(x,set76(1-x))\n",
    "#pyplot.plot(x,wset(x))"
   ]
  },
  {
   "cell_type": "markdown",
   "metadata": {
    "collapsed": true
   },
   "source": [
    "## Naive Estimation\n",
    "\n",
    "Average score of opponents: $b_i = \\frac{\\sum n_{ij} a_j}{\\sum n_{ij}}$\n",
    "\n",
    "Then $$w\\left(\\frac{1}{1-e^{-(a_i - b_i)}}\\right) \\simeq w_i$$\n",
    "where $w_i$ is the percentage of games won.\n",
    "Equivalently:\n",
    "\n",
    "$$a_i - \\frac{\\sum n_{ij} a_j}{\\sum n_{ij}} = \\ln{\\left(w^{-1}(w_i)\\right)} - \\ln{\\left(1-w^{-1}(w_i)\\right)}$$\n",
    "\n",
    "Hence, to calculate the first naive estimation we both perform the following operations:\n",
    "1. calculating the percentage of games won\n",
    "2. calculate $\\ln{\\left(w^{-1}(w_i)\\right)} - \\ln{\\left(1-w^{-1}(w_i)\\right)}$\n",
    "3. Get $n_{ij}$\n",
    "4. solve the system $\\left(I - \\left(\\frac{n_{ij}}{\\sum_j n_{ij}}\\right)_{ij}\\right) x =  \\left(\\ln{\\left(w^{-1}(w_i)\\right)} - \\ln{\\left(1-w^{-1}(w_i)\\right)}\\right)_i$\n",
    "\n",
    "\n",
    "\n",
    "## f_logistic\n",
    "$f(p) = \\left(f_1(p),\\dots,f_N(p)\\right)$\n",
    "\n",
    "$p(x) = \\frac{1}{1+e^x}$\n",
    "\n",
    "$Y(x) = f(p(x))$\n",
    "\n",
    "$ln f"
   ]
  },
  {
   "cell_type": "code",
   "execution_count": 15,
   "metadata": {
    "collapsed": false
   },
   "outputs": [
    {
     "data": {
      "text/plain": [
       "[<matplotlib.lines.Line2D at 0xc9f5780>]"
      ]
     },
     "execution_count": 15,
     "metadata": {},
     "output_type": "execute_result"
    },
    {
     "data": {
      "image/png": "[encoded data removed]",
      "text/plain": [
       "<matplotlib.figure.Figure at 0xc438160>"
      ]
     },
     "metadata": {},
     "output_type": "display_data"
    }
   ],
   "source": []
  },
  {
   "cell_type": "code",
   "execution_count": null,
   "metadata": {
    "collapsed": true
   },
   "outputs": [],
   "source": []
  }
 ],
 "metadata": {
  "kernelspec": {
   "display_name": "Python 2",
   "language": "python",
   "name": "python2"
  },
  "language_info": {
   "codemirror_mode": {
    "name": "ipython",
    "version": 2
   },
   "file_extension": ".py",
   "mimetype": "text/x-python",
   "name": "python",
   "nbconvert_exporter": "python",
   "pygments_lexer": "ipython2",
   "version": "2.7.12"
  }
 },
 "nbformat": 4,
 "nbformat_minor": 0
}
