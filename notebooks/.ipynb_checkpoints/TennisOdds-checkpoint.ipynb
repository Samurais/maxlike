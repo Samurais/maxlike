{
 "cells": [
  {
   "cell_type": "markdown",
   "metadata": {},
   "source": [
    "Probability of winning a point: $p$\n",
    "\n",
    "Probability of winning a game:\n",
    "\n",
    "$P = \\binom 30 p^4 + \\binom 41 p^4(1-p) + \\binom 52 p^4(1-p)^2 + \\binom 63 \\frac{p^3(1-p)^3}{1-2p(1-p)}p^2$\n",
    "\n",
    "$=p^4+4p^4(1-p)+10p^4(1-p)^2 + 20 \\frac{p^5(1-p)^3}{1-2p+2p^2}$\n",
    "\n",
    "$=15p^4-24p^5+10p^6  + 20 \\frac{p^5-3p^6+3p^7-p^8}{1-2p+2p^2}$\n",
    "\n",
    "Probability of winning a Tie-break:\n",
    "\n",
    "$P_{tie-break} = p^7 + \\binom 71 p^7(1-p) + \\binom 82 p^7(1-p)^2 + \\binom 93 p^7(1-p)^3 + \\binom{10}{4} p^7(1-p)^4 + \\binom{11}{5} p^7(1-p)^5 + \\binom{12}{6}\\frac{p^6(1-p)^6}{1-2p(1-p)}p^2$\n",
    "\n",
    "$= 792p^7 - 3465 p^8 + 6160 p^9 - 5544 p^{10} + 2520 p^{11} - 462 p^{12} + 924 \\frac{p^8-6p^9+15p^{10}-20p^{11}+15p^{12}-6p^{13}+p^{14}}{1-2p+2p^2}$\n",
    "\n",
    "Probability of winning a set:\n",
    "\n",
    "6:0 $P^6$\n",
    "\n",
    "6:1 $\\binom 61 P^6(1-P) = 6P^6-6P^7$\n",
    "\n",
    "6:2 $\\binom 72 P^6(1-P)^2 = 21(P^6-2P^7+P^8)$\n",
    "\n",
    "6:3 $\\binom 83 P^6(1-P)^3 = 56(P^6-3P^7+3P^8-P^9)$\n",
    "\n",
    "6:4 $\\binom 94 P^6(1-P)^4 = 126(P^6-4P^7+6P^8-4P^9+P^10)$\n",
    "\n",
    "7:5 $\\binom{10}{5}P^7(1-P)^5 = 252(P^7-5P^8+10P^9-10P^{10}+5P^{11}-P^{12})$\n",
    "\n",
    "7:6 $2\\binom{10}{5}P^6(1-P)^6P_{tie-break}$\n"
   ]
  },
  {
   "cell_type": "code",
   "execution_count": 9,
   "metadata": {
    "collapsed": false
   },
   "outputs": [
    {
     "name": "stdout",
     "output_type": "stream",
     "text": [
      "252\n"
     ]
    }
   ],
   "source": [
    "import math\n",
    "\n",
    "def nCr(n,r):\n",
    "    f = math.factorial\n",
    "    return f(n) / f(r) / f(n-r)\n",
    "\n",
    "print nCr(10,5)"
   ]
  },
  {
   "cell_type": "code",
   "execution_count": 27,
   "metadata": {
    "collapsed": false
   },
   "outputs": [],
   "source": [
    "game = lambda p : 15*p**4-24*p**5+10*p**6  + 20*(p**5-3*p**6+3*p**7-p**8)/(1-2*p+2*p**2)\n",
    "tiebreak = lambda p : 792*p**7 - 3465*p**8 + 6160*p**9 - 5544*p**10 + 2520*p**11 - 462*p**12 + 924*(p**8-6*p**9+15*p**10-20*p**11+15*p**12-6*p**13+p**14)/(1-2*p+2*p**2)"
   ]
  },
  {
   "cell_type": "code",
   "execution_count": 29,
   "metadata": {
    "collapsed": false
   },
   "outputs": [],
   "source": [
    "import numpy as np\n",
    "x = np.arange(0,1,.001)"
   ]
  },
  {
   "cell_type": "code",
   "execution_count": 30,
   "metadata": {
    "collapsed": false
   },
   "outputs": [
    {
     "data": {
      "text/plain": [
       "[<matplotlib.lines.Line2D at 0x9edbc18>]"
      ]
     },
     "execution_count": 30,
     "metadata": {},
     "output_type": "execute_result"
    },
    {
     "data": {
      "image/png": "[encoded data removed]",
      "text/plain": [
       "<matplotlib.figure.Figure at 0x9edb898>"
      ]
     },
     "metadata": {},
     "output_type": "display_data"
    }
   ],
   "source": [
    "from matplotlib import pyplot\n",
    "%matplotlib inline\n",
    "pyplot.plot(x,game(x))\n",
    "pyplot.plot(x,tiebreak(x))"
   ]
  },
  {
   "cell_type": "code",
   "execution_count": null,
   "metadata": {
    "collapsed": true
   },
   "outputs": [],
   "source": []
  }
 ],
 "metadata": {
  "kernelspec": {
   "display_name": "Python 2",
   "language": "python",
   "name": "python2"
  },
  "language_info": {
   "codemirror_mode": {
    "name": "ipython",
    "version": 2
   },
   "file_extension": ".py",
   "mimetype": "text/x-python",
   "name": "python",
   "nbconvert_exporter": "python",
   "pygments_lexer": "ipython2",
   "version": "2.7.12"
  }
 },
 "nbformat": 4,
 "nbformat_minor": 0
}
